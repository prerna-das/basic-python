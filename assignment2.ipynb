{
 "cells": [
  {
   "cell_type": "code",
   "execution_count": null,
   "metadata": {},
   "outputs": [],
   "source": [
    "# 1.Pascal's triangle\n",
    "# from math import factorial\n",
    "rows=int(input(\"enter the number of rows:\"))\n",
    "for n in range(rows):\n",
    "    for space in range(1,rows-n):# space\n",
    "        print(end=' ')\n",
    "\n",
    "    #for element in each row\n",
    "    for r in range(n+1):\n",
    "        ncr= factorial(n)//(factorial(n-r)*factorial(r)) #here // tskes the floor value\n",
    "        print(ncr,end=' ')\n",
    "    print()\n",
    "\n"
   ]
  },
  {
   "cell_type": "markdown",
   "metadata": {},
   "source": [
    "2. continue is a keyword in python which is used to skip certain line of codes and move to next iteration. Using continue can help avoid deep nesting of conditional statements, which can make the code harder to follow."
   ]
  },
  {
   "cell_type": "code",
   "execution_count": null,
   "metadata": {},
   "outputs": [],
   "source": [
    "number=[1,5,6,7,9,10,12,14,15,16]\n",
    "for n in number:\n",
    "    if(n%5!=0):\n",
    "        continue # skips the numbers that are not divisble by 5 and moves to next iteration\n",
    "    else:\n",
    "        print(n)"
   ]
  },
  {
   "cell_type": "code",
   "execution_count": null,
   "metadata": {},
   "outputs": [],
   "source": [
    "#3.triplets\n",
    "pythagorus_triplets=[(a,b,c) for a in range(1,51) for b in range(a,51) for  c in range (b,51) if a**2 + b**2 ==c**2]\n",
    "for triplets in pythagorus_triplets:\n",
    "    print(triplets)"
   ]
  },
  {
   "cell_type": "code",
   "execution_count": null,
   "metadata": {},
   "outputs": [],
   "source": [
    "#4.\n",
    "def max_consecutive_sum(nums, k):\n",
    "    if len(nums) < k:\n",
    "        return None\n",
    "    return max(sum(nums[i:i + k]) for i in range(len(nums) - k + 1))\n",
    "\n",
    "print(max_consecutive_sum([1, 2, 3, 4, 5, 6, 7, 8], 3))\n"
   ]
  },
  {
   "cell_type": "markdown",
   "metadata": {},
   "source": [
    "5. Write a function that takes a list as an argument and modifies it by appending a new item. Demonstrate how changes to the list inside the\n",
    "function affect the list outside the function\n"
   ]
  },
  {
   "cell_type": "code",
   "execution_count": null,
   "metadata": {},
   "outputs": [],
   "source": [
    "def modify(lst):\n",
    "    lst.append(\"prerna\") #new item\n",
    "\n",
    "lst=[\"hi\",\"everyone\",\"this\",\"is\"]\n",
    "modify(lst)\n",
    "print(lst)"
   ]
  },
  {
   "cell_type": "markdown",
   "metadata": {},
   "source": [
    "6.Fibbonaci series"
   ]
  },
  {
   "cell_type": "code",
   "execution_count": 14,
   "metadata": {},
   "outputs": [
    {
     "name": "stdout",
     "output_type": "stream",
     "text": [
      "0 , 1,1,2,3,5,"
     ]
    }
   ],
   "source": [
    "f=0 \n",
    "s=1\n",
    "print(f,\",\",s,end=',')\n",
    "n=int(input(\"enter the number of elements you want to Display:\"))\n",
    "if (n<=0):\n",
    "    print(\"please Enter a Positive number.\")\n",
    "elif(n==1):\n",
    "    print(f)\n",
    "elif(n==2):\n",
    "    print(s)\n",
    "else:\n",
    "    for _ in range(n-2):\n",
    "        t=f+s\n",
    "        print(t, end=',')\n",
    "        f=s\n",
    "        s=t\n",
    "\n",
    "\n"
   ]
  },
  {
   "cell_type": "code",
   "execution_count": null,
   "metadata": {},
   "outputs": [],
   "source": []
  }
 ],
 "metadata": {
  "kernelspec": {
   "display_name": "Python 3",
   "language": "python",
   "name": "python3"
  },
  "language_info": {
   "codemirror_mode": {
    "name": "ipython",
    "version": 3
   },
   "file_extension": ".py",
   "mimetype": "text/x-python",
   "name": "python",
   "nbconvert_exporter": "python",
   "pygments_lexer": "ipython3",
   "version": "3.11.4"
  }
 },
 "nbformat": 4,
 "nbformat_minor": 2
}
