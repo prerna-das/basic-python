{
 "cells": [
  {
   "cell_type": "markdown",
   "metadata": {},
   "source": [
    "1. tuple is denoted by ().\n",
    "whereas, list is denoted by [].\n",
    "tuple is immutable i.e non-changeble. whereas,list is mutuable i.e changable.\n",
    "tuple is choosen for better performace whereas,list is choosen for stability."
   ]
  },
  {
   "cell_type": "code",
   "execution_count": 7,
   "metadata": {},
   "outputs": [
    {
     "name": "stdout",
     "output_type": "stream",
     "text": [
      "['hello', 1, 5, 9, 'prerna']\n",
      "(0, 1, 5, 6, 3)\n"
     ]
    }
   ],
   "source": [
    " my_list=[0,1,5,9,\"prerna\"]\n",
    " my_list[0]=\"hello\"\n",
    " print(my_list)# modifiable\n",
    "\n",
    " tuple=(0,1,5,6,3)\n",
    " #tuple[0]=\"hi\"# non-modifiable\n",
    " print(tuple)"
   ]
  },
  {
   "cell_type": "markdown",
   "metadata": {},
   "source": [
    "2. string can be type conversed into list using spilt() function.\n",
    "float can be type conversed into int using int() function."
   ]
  },
  {
   "cell_type": "code",
   "execution_count": 12,
   "metadata": {},
   "outputs": [
    {
     "name": "stdout",
     "output_type": "stream",
     "text": [
      "['hello', 'everybody', '!', 'Welcome', 'to', 'upflairs', 'classes.']\n",
      "<class 'float'>\n",
      "31\n"
     ]
    }
   ],
   "source": [
    "string=\"hello everybody ! Welcome to upflairs classes.\"\n",
    "print(string.split())\n",
    "a=31.42\n",
    "print(type(a))\n",
    "print(int(a))"
   ]
  },
  {
   "cell_type": "code",
   "execution_count": 13,
   "metadata": {},
   "outputs": [
    {
     "name": "stdout",
     "output_type": "stream",
     "text": [
      "13\n"
     ]
    }
   ],
   "source": [
    "#3.\n",
    "num=3\n",
    "num+=10\n",
    "print(num)"
   ]
  },
  {
   "cell_type": "code",
   "execution_count": 37,
   "metadata": {},
   "outputs": [
    {
     "name": "stdout",
     "output_type": "stream",
     "text": [
      "False\n"
     ]
    }
   ],
   "source": [
    "def leap_year(year):\n",
    "     if(year%4==0):\n",
    "           if(year%100==0):\n",
    "               if(year%400==0):\n",
    "                   return True# leap year if ir is divisible by 400\n",
    "               return False # not a leap year if it is divisble by 100 but not 400 \n",
    "           return True #leap year if it is divisble by 4\n",
    "     return False# else not a leap year\n",
    "        \n",
    "year=int(input(\"Enter a year:\"))\n",
    "print(leap_year(year))\n",
    "\n",
    "\n",
    "        "
   ]
  },
  {
   "cell_type": "code",
   "execution_count": 38,
   "metadata": {},
   "outputs": [
    {
     "name": "stdout",
     "output_type": "stream",
     "text": [
      "Your Grade is F.\n"
     ]
    }
   ],
   "source": [
    "marks=int(input(\"Enter your marks:\"))\n",
    "if(marks>=90 and marks<=100):\n",
    "    print(\"Your Grade is A.\")\n",
    "elif(marks>=80 and marks<=80):\n",
    "    print(\"Your Grade is B.\")\n",
    "elif(marks>=70 and marks<=79):\n",
    "    print(\"Your Grade is B.\")\n",
    "elif(marks>=60 and marks<=69):\n",
    "    print(\"Your Grade is C.\")\n",
    "else:\n",
    "    print(\"Your Grade is F.\")\n",
    "\n"
   ]
  }
 ],
 "metadata": {
  "kernelspec": {
   "display_name": "Python 3",
   "language": "python",
   "name": "python3"
  },
  "language_info": {
   "codemirror_mode": {
    "name": "ipython",
    "version": 3
   },
   "file_extension": ".py",
   "mimetype": "text/x-python",
   "name": "python",
   "nbconvert_exporter": "python",
   "pygments_lexer": "ipython3",
   "version": "3.11.4"
  }
 },
 "nbformat": 4,
 "nbformat_minor": 2
}
